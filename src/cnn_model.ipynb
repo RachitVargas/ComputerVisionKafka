{
 "cells": [
  {
   "cell_type": "code",
   "execution_count": 15,
   "metadata": {},
   "outputs": [],
   "source": [
    "import os\n",
    "import pandas as pd\n",
    "import numpy as np\n",
    "import matplotlib.pyplot as plt\n",
    "from sklearn.model_selection import train_test_split\n",
    "from sklearn.metrics import confusion_matrix\n",
    "from PIL import Image, ImageFilter\n",
    "\n",
    "from tensorflow.keras.models import Sequential\n",
    "from tensorflow.keras.layers import Dense\n",
    "import re\n",
    "import cv2\n",
    "import tensorflow.keras as keras\n",
    "from tensorflow.keras.utils import to_categorical\n",
    "from tensorflow.keras.layers import Dense, Dropout, Flatten, Activation\n",
    "from tensorflow.keras.layers import Conv2D, MaxPooling2D\n",
    "from tensorflow.keras.layers import LeakyReLU\n",
    "from urllib.request import Request, urlopen\n",
    "from sklearn.preprocessing import LabelEncoder\n",
    "from sklearn.preprocessing import StandardScaler"
   ]
  },
  {
   "cell_type": "code",
   "execution_count": 16,
   "metadata": {},
   "outputs": [],
   "source": [
    "os.chdir(path=\"/Users/antony.vargasulead.ac.cr/BigData/proyecto_final\")\n",
    "labels = []\n",
    "imagenes = []\n",
    "\n",
    "for carpeta in next(os.walk('data/piedrapapeltijera'))[1]:\n",
    "  for nombrearchivo in next(os.walk('data/piedrapapeltijera' + '/' + carpeta))[2]:\n",
    "    if re.search(\"\\\\.(jpg|jpeg|png|bmp|tiff)$\", nombrearchivo):\n",
    "      try:\n",
    "        img = cv2.imread('data/piedrapapeltijera' + '/' + carpeta + '/' + nombrearchivo)[...,::-1]\n",
    "        img = cv2.resize(img, (64, 64))\n",
    "        imagenes.append(img)\n",
    "        labels.append(carpeta)\n",
    "      except:\n",
    "        print(\"No se pudo cargar la imagen: \" + nombrearchivo + \" en la carpeta: \" + carpeta)"
   ]
  },
  {
   "cell_type": "code",
   "execution_count": 17,
   "metadata": {},
   "outputs": [
    {
     "name": "stdout",
     "output_type": "stream",
     "text": [
      "Total de individuos:  178 \n",
      "Número total de salidas:  3 \n",
      "Clases de salida:  ['Papel' 'Piedra' 'Tijeras']\n"
     ]
    }
   ],
   "source": [
    "X = np.array(imagenes, dtype = np.float32)\n",
    "y = np.array(labels)\n",
    "\n",
    "print('Total de individuos: ', len(X),\n",
    "  '\\nNúmero total de salidas: ', len(np.unique(y)), \n",
    "  '\\nClases de salida: ', np.unique(y))"
   ]
  },
  {
   "cell_type": "code",
   "execution_count": 20,
   "metadata": {},
   "outputs": [],
   "source": [
    "# Dividir en train y test\n",
    "train_X, test_X, train_Y, test_Y = train_test_split(X, y, test_size = 0.20)\n",
    "\n",
    "# Normalizar\n",
    "train_X = train_X / 255.\n",
    "test_X  = test_X / 255.\n",
    "\n",
    "# Cambiamos las etiquetas de categoricas a one-hot encoding\n",
    "train_Y_one_hot = pd.get_dummies(train_Y)\n",
    "train_Y_one_hot = train_Y_one_hot.to_numpy()\n",
    "\n",
    "test_Y_one_hot = pd.get_dummies(test_Y)\n",
    "test_Y_one_hot = test_Y_one_hot.to_numpy()"
   ]
  },
  {
   "cell_type": "code",
   "execution_count": 21,
   "metadata": {},
   "outputs": [
    {
     "name": "stdout",
     "output_type": "stream",
     "text": [
      "Model: \"sequential_2\"\n",
      "_________________________________________________________________\n",
      "Layer (type)                 Output Shape              Param #   \n",
      "=================================================================\n",
      "conv2d_4 (Conv2D)            (None, 64, 64, 64)        1792      \n",
      "_________________________________________________________________\n",
      "leaky_re_lu_4 (LeakyReLU)    (None, 64, 64, 64)        0         \n",
      "_________________________________________________________________\n",
      "max_pooling2d_4 (MaxPooling2 (None, 32, 32, 64)        0         \n",
      "_________________________________________________________________\n",
      "dropout_4 (Dropout)          (None, 32, 32, 64)        0         \n",
      "_________________________________________________________________\n",
      "conv2d_5 (Conv2D)            (None, 32, 32, 64)        16448     \n",
      "_________________________________________________________________\n",
      "max_pooling2d_5 (MaxPooling2 (None, 16, 16, 64)        0         \n",
      "_________________________________________________________________\n",
      "flatten_2 (Flatten)          (None, 16384)             0         \n",
      "_________________________________________________________________\n",
      "dense_4 (Dense)              (None, 32)                524320    \n",
      "_________________________________________________________________\n",
      "leaky_re_lu_5 (LeakyReLU)    (None, 32)                0         \n",
      "_________________________________________________________________\n",
      "dropout_5 (Dropout)          (None, 32)                0         \n",
      "_________________________________________________________________\n",
      "dense_5 (Dense)              (None, 3)                 99        \n",
      "=================================================================\n",
      "Total params: 542,659\n",
      "Trainable params: 542,659\n",
      "Non-trainable params: 0\n",
      "_________________________________________________________________\n"
     ]
    }
   ],
   "source": [
    "epochs = 50\n",
    "batch_size = 64\n",
    " \n",
    "modelo_ppt = Sequential()\n",
    "\n",
    "modelo_ppt.add(Conv2D(64, kernel_size=(3, 3),\n",
    "                       activation='linear',padding='same',input_shape=(64,64,3)))\n",
    "modelo_ppt.add(LeakyReLU(alpha=0.1))\n",
    "modelo_ppt.add(MaxPooling2D((2, 2),padding='same'))\n",
    "modelo_ppt.add(Dropout(0.5))\n",
    "modelo_ppt.add(Conv2D(64, kernel_size=(2, 2),\n",
    "                      activation='linear',padding='same'))\n",
    "modelo_ppt.add(MaxPooling2D((2, 2),padding='same'))\n",
    "modelo_ppt.add(Flatten())\n",
    "modelo_ppt.add(Dense(32, activation='linear'))\n",
    "modelo_ppt.add(LeakyReLU(alpha=0.1))\n",
    "modelo_ppt.add(Dropout(0.5))\n",
    "\n",
    "modelo_ppt.add(Dense(len(np.unique(y)), activation='softmax'))\n",
    " \n",
    "modelo_ppt.summary()"
   ]
  },
  {
   "cell_type": "code",
   "execution_count": 22,
   "metadata": {},
   "outputs": [
    {
     "data": {
      "text/plain": [
       "<keras.callbacks.History at 0x7fa453d95610>"
      ]
     },
     "execution_count": 22,
     "metadata": {},
     "output_type": "execute_result"
    }
   ],
   "source": [
    "INIT_LR = 1e-3\n",
    "modelo_ppt.compile(loss=keras.losses.categorical_crossentropy, \n",
    "                    optimizer=keras.optimizers.Adam(lr=INIT_LR),\n",
    "                    metrics=['accuracy'])\n",
    "\n",
    "\n",
    "#Entrenamos el modelo\n",
    "modelo_ppt.fit(train_X, train_Y_one_hot, batch_size = batch_size,\n",
    "                epochs = epochs, verbose = 0)"
   ]
  },
  {
   "cell_type": "code",
   "execution_count": 23,
   "metadata": {},
   "outputs": [
    {
     "name": "stdout",
     "output_type": "stream",
     "text": [
      "\n",
      "Test loss: 0.3429764211177826\n",
      "Test accuracy: 0.8888888955116272\n"
     ]
    }
   ],
   "source": [
    "# Guardamos la red, para reutilizarla en el futuro, sin tener que volver a entrenar\n",
    "modelo_ppt.save(\"algorithms/modelCNN.h5\")\n",
    "\n",
    "from tensorflow.keras.models import load_model\n",
    "modelo_ppt = load_model('algorithms/modelCNN.h5')\n",
    "\n",
    "#Evaluamos con respecto a la tabla de testing\n",
    "test_eval = modelo_ppt.evaluate(test_X, test_Y_one_hot, verbose=0)\n",
    " \n",
    "print('\\nTest loss:', test_eval[0])\n",
    "print('Test accuracy:', test_eval[1])"
   ]
  },
  {
   "cell_type": "code",
   "execution_count": null,
   "metadata": {},
   "outputs": [],
   "source": []
  }
 ],
 "metadata": {
  "kernelspec": {
   "display_name": "Python 3",
   "language": "python",
   "name": "python3"
  },
  "language_info": {
   "codemirror_mode": {
    "name": "ipython",
    "version": 3
   },
   "file_extension": ".py",
   "mimetype": "text/x-python",
   "name": "python",
   "nbconvert_exporter": "python",
   "pygments_lexer": "ipython3",
   "version": "3.8.3"
  },
  "orig_nbformat": 4
 },
 "nbformat": 4,
 "nbformat_minor": 2
}
